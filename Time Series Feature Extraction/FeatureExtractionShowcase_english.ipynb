{
 "cells": [
  {
   "cell_type": "code",
   "execution_count": 1,
   "metadata": {},
   "outputs": [],
   "source": [
    "import numpy as np\n",
    "import pandas as pd\n",
    "\n",
    "import tsfresh\n",
    "from tsfresh import extract_features, select_features\n",
    "from tsfresh.utilities.dataframe_functions import impute"
   ]
  },
  {
   "cell_type": "markdown",
   "metadata": {},
   "source": [
    "## Prepare data\n",
    "\n",
    "You first have to bring your data into the following form:\n",
    "\n",
    "| id | time | time series feature 1 (e.g. speed) | time series feature 2 (e.g. force) | time series feature 3 | time series feature 4 |\n",
    "|----|------|----------|----------|----------|--------|\n",
    "| 0  | 0    | 0.1      | 0.2    | 0.3      | 0.4    |\n",
    "| 0  | 1    | 0.2      | 0.3    | 0.4      | 0.5    |\n",
    "| 0  | 2    | 0.3      | 0.4    | 0.5      | 0.6    |\n",
    "| ...| ...  | ...      | ...    | ...      | ...    |\n",
    "| 1  | 0    | 0.2      | 0.3    | 0.4      | 0.5    |\n",
    "| 1  | 1    | 0.3      | 0.4    | 0.5      | 0.6    |\n",
    "| 1  | 2    | 0.4      | 0.5    | 0.6      | 0.7    |\n",
    "| ...| ...  | ...      | ...    | ...      | ...    |\n",
    "| 298 | 0   | 0.3      | 0.4    | 0.5      | 0.6    |\n",
    "| 298 | 1   | 0.4      | 0.5    | 0.6      | 0.7    |\n",
    "| 298 | 2   | 0.5      | 0.6    | 0.7      | 0.8    |\n",
    "| ...| ...  | ...      | ...    | ...      | ...    |\n",
    "\n",
    "The dataframe contains all time series for all samples. The samples are identified by the id column.  \n",
    "The timestamps for the time series are in the time column.  \n",
    "The features are identified through the respective columns.  \n",
    "\n",
    "If your time series features are of different lengths, you can also handle them individually.\n",
    "\n",
    "See: https://tsfresh.readthedocs.io/en/latest/text/data_formats.html"
   ]
  },
  {
   "cell_type": "markdown",
   "metadata": {},
   "source": [
    "The following code is an example for a dataset from a previous project.  \n",
    "For your use case and data format, you will have to adapt it / write your own code. "
   ]
  },
  {
   "cell_type": "code",
   "execution_count": null,
   "metadata": {},
   "outputs": [],
   "source": [
    "filename = '...'\n",
    "\n",
    "multivar_data_np = np.load(filename, allow_pickle=True)\n",
    "features = multivar_data_np[:, 0]\n",
    "labels = multivar_data_np[:, 1]\n",
    "\n",
    "angles = pd.Series([row[4] for row in labels], name=\"...\")\n",
    "\n",
    "angles.to_pickle(\"...\")\n",
    "\n",
    "num_samples = features.shape[0]\n",
    "\n",
    "channel_names = ['...']\n",
    "length = 1212"
   ]
  },
  {
   "cell_type": "code",
   "execution_count": null,
   "metadata": {},
   "outputs": [],
   "source": [
    "all_samples_and_time_series = {}\n",
    "\n",
    "all_samples_and_time_series[\"Index\"] = [i for i in range(num_samples) for j in range(length)] # [0, 0, 0, ..., 1, 1, 1, ...]\n",
    "all_samples_and_time_series[\"Timestamp\"] = [i for i in range(length)] * num_samples # [0, 1, 2, ..., 0, 1, 2, ...]\n",
    "\n",
    "# Init lists for the different time series (channels)\n",
    "for channel in channel_names[1:]:\n",
    "    all_samples_and_time_series[channel] = []\n",
    "\n",
    "for sample in features:\n",
    "    for c_idx, channel in enumerate(channel_names[1:]):\n",
    "        all_samples_and_time_series[channel] += list(sample[:, c_idx+1][:length])\n",
    "\n",
    "df = pd.DataFrame(all_samples_and_time_series)"
   ]
  },
  {
   "cell_type": "code",
   "execution_count": null,
   "metadata": {},
   "outputs": [],
   "source": [
    "df"
   ]
  },
  {
   "cell_type": "code",
   "execution_count": null,
   "metadata": {},
   "outputs": [],
   "source": [
    "df.describe()"
   ]
  },
  {
   "cell_type": "code",
   "execution_count": null,
   "metadata": {},
   "outputs": [],
   "source": [
    "#df.to_pickle(\"...\")"
   ]
  },
  {
   "cell_type": "markdown",
   "metadata": {},
   "source": [
    "## Feature Extraction\n",
    "\n",
    "Feature extraction and feature selection with tsfresh.  \n",
    "Uses the built-in statistical feature selection of tsfresh to determine relevant features.  \n",
    "tsfresh.extract_relevant_features does the same as extract_features + impute + select_features.  \n",
    "\n",
    "Extracted features: https://tsfresh.readthedocs.io/en/latest/text/list_of_features.html"
   ]
  },
  {
   "cell_type": "code",
   "execution_count": null,
   "metadata": {},
   "outputs": [],
   "source": [
    "# extracted_features = extract_features(timeseries, column_id=\"id\", column_sort=\"time\")\n",
    "#\n",
    "# impute(extracted_features)\n",
    "# features_filtered = select_features(extracted_features, y)"
   ]
  },
  {
   "cell_type": "code",
   "execution_count": null,
   "metadata": {},
   "outputs": [],
   "source": [
    "features = tsfresh.extract_relevant_features(df, angles, column_id=\"Index\", column_sort=\"Timestamp\")"
   ]
  },
  {
   "cell_type": "markdown",
   "metadata": {},
   "source": [
    "For multivariate time series, the features for each time series are named like so:  \n",
    "\"TimeSeriesName__FeatureName\"  \n",
    "e.g.  \n",
    "\"Schleppfehler__abs_energy\", \"Motormoment__abs_energy\", ..."
   ]
  },
  {
   "cell_type": "code",
   "execution_count": null,
   "metadata": {},
   "outputs": [],
   "source": [
    "features"
   ]
  },
  {
   "cell_type": "code",
   "execution_count": null,
   "metadata": {},
   "outputs": [],
   "source": [
    "features.to_pickle(\"...\")"
   ]
  },
  {
   "cell_type": "markdown",
   "metadata": {},
   "source": [
    "## Recursive Feature Elimination\n",
    "The Recursive Feature Elimination (RFECV) tries to eliminate features without a loss in performance.  \n",
    "This allows for significant reduction of the large dataframe (sometimes >1000 features). \n",
    "\n",
    "Currently, XGBoost is used as the base model for RFECV. You can change this to any other model if wanted."
   ]
  },
  {
   "cell_type": "code",
   "execution_count": null,
   "metadata": {},
   "outputs": [],
   "source": [
    "X = pd.read_pickle(\"...\") # This is the featues dataframe from the previous step\n",
    "y = pd.read_pickle(\"...\") # These are your labels (target variable values for regression in this example)\n",
    "\n",
    "data = pd.concat([X, y], axis=\"columns\")"
   ]
  },
  {
   "cell_type": "markdown",
   "metadata": {},
   "source": [
    "RFECV with XGBoost and 5-fold cross-validation."
   ]
  },
  {
   "cell_type": "code",
   "execution_count": null,
   "metadata": {},
   "outputs": [
    {
     "name": "stdout",
     "output_type": "stream",
     "text": [
      "Optimal number of features: 118\n"
     ]
    }
   ],
   "source": [
    "from sklearn.feature_selection import RFECV\n",
    "from sklearn.model_selection import KFold\n",
    "from sklearn.metrics import mean_squared_error\n",
    "\n",
    "from xgboost import XGBRegressor\n",
    "\n",
    "reg = XGBRegressor()\n",
    "cv = KFold(5)\n",
    "\n",
    "rfecv = RFECV(\n",
    "    estimator=reg,\n",
    "    step=1,\n",
    "    cv=cv,\n",
    "    scoring=\"neg_mean_squared_error\",\n",
    "    min_features_to_select=1,\n",
    "    n_jobs=8,\n",
    ")\n",
    "rfecv.fit(X, y)\n",
    "\n",
    "print(f\"Optimal number of features: {rfecv.n_features_}\")"
   ]
  },
  {
   "cell_type": "markdown",
   "metadata": {},
   "source": [
    "The remaining features:"
   ]
  },
  {
   "cell_type": "code",
   "execution_count": null,
   "metadata": {},
   "outputs": [],
   "source": [
    "rfecv.get_feature_names_out()"
   ]
  },
  {
   "cell_type": "markdown",
   "metadata": {},
   "source": [
    "Reduce the dataframe to the remaining features:"
   ]
  },
  {
   "cell_type": "code",
   "execution_count": null,
   "metadata": {},
   "outputs": [],
   "source": [
    "X_reduced = pd.DataFrame(rfecv.transform(X), columns=rfecv.get_feature_names_out())\n",
    "\n",
    "X_reduced"
   ]
  },
  {
   "cell_type": "code",
   "execution_count": null,
   "metadata": {},
   "outputs": [],
   "source": [
    "X_reduced.to_pickle(\"...\")"
   ]
  },
  {
   "cell_type": "markdown",
   "metadata": {},
   "source": [
    "## Feature Extraction without Selection\n",
    "\n",
    "tsfresh.extract_relevant_features also includes feature selection through statistical tests.  \n",
    "Here, feature selection is not used, and all features are extracted.  \n",
    "Then, only Recursive Feature Elimination is used for feature selection.  \n",
    "This is more complete and can sometimes be better for some datasets and use cases. "
   ]
  },
  {
   "cell_type": "code",
   "execution_count": null,
   "metadata": {},
   "outputs": [],
   "source": [
    "from tsfresh.feature_extraction import EfficientFCParameters\n",
    "\n",
    "settings = EfficientFCParameters()\n",
    "\n",
    "extracted_features = extract_features(df, column_id=\"Index\", column_sort=\"Timestamp\", default_fc_parameters=settings, n_jobs=8)\n",
    "\n",
    "impute(extracted_features)"
   ]
  },
  {
   "cell_type": "code",
   "execution_count": null,
   "metadata": {},
   "outputs": [],
   "source": [
    "extracted_features"
   ]
  },
  {
   "cell_type": "code",
   "execution_count": null,
   "metadata": {},
   "outputs": [],
   "source": [
    "extracted_features.to_pickle(\"...\")"
   ]
  },
  {
   "cell_type": "code",
   "execution_count": null,
   "metadata": {},
   "outputs": [],
   "source": [
    "from sklearn.feature_selection import RFECV\n",
    "from sklearn.model_selection import KFold\n",
    "from sklearn.metrics import mean_squared_error\n",
    "\n",
    "from xgboost import XGBRegressor\n",
    "\n",
    "X = pd.read_pickle(\"...\")\n",
    "y = pd.read_pickle(\"...\")\n",
    "\n",
    "reg = XGBRegressor()\n",
    "cv = KFold(5)\n",
    "\n",
    "rfecv = RFECV(\n",
    "    estimator=reg,\n",
    "    step=1,\n",
    "    cv=cv,\n",
    "    scoring=\"neg_mean_squared_error\",\n",
    "    min_features_to_select=1,\n",
    "    n_jobs=8,\n",
    ")\n",
    "rfecv.fit(X, y)\n",
    "\n",
    "print(f\"Optimal number of features: {rfecv.n_features_}\")"
   ]
  },
  {
   "cell_type": "code",
   "execution_count": null,
   "metadata": {},
   "outputs": [],
   "source": [
    "rfecv.get_feature_names_out()"
   ]
  },
  {
   "cell_type": "code",
   "execution_count": null,
   "metadata": {},
   "outputs": [],
   "source": [
    "X_reduced = pd.DataFrame(rfecv.transform(X), columns=rfecv.get_feature_names_out())\n",
    "\n",
    "X_reduced"
   ]
  },
  {
   "cell_type": "code",
   "execution_count": null,
   "metadata": {},
   "outputs": [],
   "source": [
    "X_reduced.to_pickle(\"...\")"
   ]
  }
 ],
 "metadata": {
  "kernelspec": {
   "display_name": "Benedikt_Wille_Hiwi",
   "language": "python",
   "name": "python3"
  },
  "language_info": {
   "codemirror_mode": {
    "name": "ipython",
    "version": 3
   },
   "file_extension": ".py",
   "mimetype": "text/x-python",
   "name": "python",
   "nbconvert_exporter": "python",
   "pygments_lexer": "ipython3",
   "version": "3.9.16"
  }
 },
 "nbformat": 4,
 "nbformat_minor": 2
}
